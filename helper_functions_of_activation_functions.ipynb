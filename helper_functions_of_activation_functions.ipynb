{
  "nbformat": 4,
  "nbformat_minor": 0,
  "metadata": {
    "colab": {
      "name": "helper functions of activation functions.ipynb",
      "private_outputs": true,
      "provenance": [],
      "authorship_tag": "ABX9TyNM025rGNZz541GyGhEH9bY",
      "include_colab_link": true
    },
    "kernelspec": {
      "name": "python3",
      "display_name": "Python 3"
    },
    "language_info": {
      "name": "python"
    }
  },
  "cells": [
    {
      "cell_type": "markdown",
      "metadata": {
        "id": "view-in-github",
        "colab_type": "text"
      },
      "source": [
        "<a href=\"https://colab.research.google.com/github/urjad/Coding-Assingments/blob/main/helper_functions_of_activation_functions.ipynb\" target=\"_parent\"><img src=\"https://colab.research.google.com/assets/colab-badge.svg\" alt=\"Open In Colab\"/></a>"
      ]
    },
    {
      "cell_type": "code",
      "execution_count": null,
      "metadata": {
        "id": "054bMos_m17U"
      },
      "outputs": [],
      "source": [
        "import numpy as np\n",
        "import tensorflow as tf\n",
        "import matplotlib.pyplot as plt\n",
        "import os\n",
        "\n",
        "plt.style.use(\"fivethirtyeight\")"
      ]
    },
    {
      "cell_type": "code",
      "source": [
        "x = np.linspace(-10,10,100)\n",
        "x"
      ],
      "metadata": {
        "id": "Y_j--Hn9nbMZ"
      },
      "execution_count": null,
      "outputs": []
    },
    {
      "cell_type": "code",
      "source": [
        "x.shape"
      ],
      "metadata": {
        "id": "NINpNMCMnfdH"
      },
      "execution_count": null,
      "outputs": []
    },
    {
      "cell_type": "code",
      "source": [
        "def derivative(f,x,delta_x=1e-6):\n",
        "  return(f(x+delta_x) - f(x))/delta_x"
      ],
      "metadata": {
        "id": "ggA47rIpnoZX"
      },
      "execution_count": null,
      "outputs": []
    },
    {
      "cell_type": "code",
      "source": [
        "def plot_graph(x,f,\n",
        "               ALPHA=0.6,\n",
        "               label_x= r\"$x\\rightarrow$\",\n",
        "               label_y= r\"$act(x),act'(x)$\",\n",
        "               title=None,\n",
        "               LABEL_Y=None,\n",
        "               LABEL_Y_DASH=None,\n",
        "               filepath_to_plot=\"plot.png\"):\n",
        "  \n",
        "\n",
        "  y= f(x)\n",
        "  y_dash = derivative(f,x)\n",
        "\n",
        "  plt.figure(figsize=(20,8))\n",
        "  plt.axhline(y=0,color=\"black\",linestyle=\":\",lw=2)\n",
        "  plt.axvline(x=0,color=\"black\",linestyle=\":\",lw=2)\n",
        "  plt.xlabel(label_x)\n",
        "  plt.ylabel(label_x)\n",
        "\n",
        "\n",
        "  if (LABEL_Y != None) and (LABEL_Y_DASH !=None):\n",
        "    plt.plot(x,y,alpha=ALPHA, label= LABEL_Y)\n",
        "    plt.plot(x,y_dash,alpha=ALPHA,label=LABEL_Y_DASH)\n",
        "    plt.legend(fontsize=20)\n",
        "  \n",
        "  else:\n",
        "    plt.plot(x,y,alpha = ALPHA)\n",
        "    plt.plot(x,y_dash,alpha=ALPHA)\n",
        "\n",
        "  plt.savefig(filepath_to_plot)\n",
        "\n",
        "\n",
        "\n",
        "\n"
      ],
      "metadata": {
        "id": "FfpBRTIfn-lv"
      },
      "execution_count": null,
      "outputs": []
    },
    {
      "cell_type": "code",
      "source": [
        "def sine(x):\n",
        "  return np.sin(x)"
      ],
      "metadata": {
        "id": "zx7IU9RRsGJr"
      },
      "execution_count": null,
      "outputs": []
    },
    {
      "cell_type": "code",
      "source": [
        "sine(0)"
      ],
      "metadata": {
        "id": "-fTBPGwJsLqt"
      },
      "execution_count": null,
      "outputs": []
    },
    {
      "cell_type": "code",
      "source": [
        "sine(3.14/2)"
      ],
      "metadata": {
        "id": "eH5EZtgcsNAI"
      },
      "execution_count": null,
      "outputs": []
    },
    {
      "cell_type": "code",
      "source": [
        "sine(90)"
      ],
      "metadata": {
        "id": "A9AjCHBjsTfg"
      },
      "execution_count": null,
      "outputs": []
    },
    {
      "cell_type": "code",
      "source": [
        "root_plot_dir=\"root\"\n",
        "os.makedirs(root_plot_dir,exist_ok=True)"
      ],
      "metadata": {
        "id": "8HIJ8KYosU72"
      },
      "execution_count": null,
      "outputs": []
    },
    {
      "cell_type": "code",
      "source": [
        "def plot_sine(x,path):\n",
        "  plot_graph(x,f=sine,\n",
        "               ALPHA=0.6,\n",
        "               label_x= r\"$x\\rightarrow$\",\n",
        "               label_y= r\"$act(x),act'(x)$\",\n",
        "               title=\"sine function\",\n",
        "               LABEL_Y=r\"$sin(x)$\",\n",
        "               LABEL_Y_DASH=\"cos(x)\",\n",
        "               filepath_to_plot=\"plot.png\")\n",
        "  \n",
        "plot_sine(x,os.path.join(root_plot_dir,\"sine\"))"
      ],
      "metadata": {
        "id": "rQ2ryyzosn-A"
      },
      "execution_count": null,
      "outputs": []
    },
    {
      "cell_type": "code",
      "source": [
        ""
      ],
      "metadata": {
        "id": "RPrstJ73tBFZ"
      },
      "execution_count": null,
      "outputs": []
    }
  ]
}