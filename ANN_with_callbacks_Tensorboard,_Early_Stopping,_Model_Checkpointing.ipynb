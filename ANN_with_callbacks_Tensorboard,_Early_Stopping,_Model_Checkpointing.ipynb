{
  "nbformat": 4,
  "nbformat_minor": 0,
  "metadata": {
    "colab": {
      "name": "ANN with callbacks Tensorboard, Early Stopping, Model Checkpointing.ipynb",
      "private_outputs": true,
      "provenance": [],
      "mount_file_id": "1wAA2abSNt3hRfsb5Aa3q5Q5d0yDKAn0e",
      "authorship_tag": "ABX9TyOHqF5zRvWhKOWfbGr5opJx",
      "include_colab_link": true
    },
    "kernelspec": {
      "name": "python3",
      "display_name": "Python 3"
    },
    "language_info": {
      "name": "python"
    },
    "accelerator": "GPU",
    "gpuClass": "standard"
  },
  "cells": [
    {
      "cell_type": "markdown",
      "metadata": {
        "id": "view-in-github",
        "colab_type": "text"
      },
      "source": [
        "<a href=\"https://colab.research.google.com/github/urjad/Coding-Assingments/blob/main/ANN_with_callbacks_Tensorboard%2C_Early_Stopping%2C_Model_Checkpointing.ipynb\" target=\"_parent\"><img src=\"https://colab.research.google.com/assets/colab-badge.svg\" alt=\"Open In Colab\"/></a>"
      ]
    },
    {
      "cell_type": "code",
      "execution_count": null,
      "metadata": {
        "id": "dXDYswMiooqO"
      },
      "outputs": [],
      "source": [
        "import os\n",
        "ROOT=\"/content/drive/MyDrive/Colab Notebooks\"\n",
        "os.chdir(ROOT)"
      ]
    },
    {
      "cell_type": "code",
      "source": [
        "os.listdir()"
      ],
      "metadata": {
        "id": "KL67rCWwpYGY"
      },
      "execution_count": null,
      "outputs": []
    },
    {
      "cell_type": "code",
      "source": [
        "import tensorflow as tf"
      ],
      "metadata": {
        "id": "zTBxJGmNp37_"
      },
      "execution_count": null,
      "outputs": []
    },
    {
      "cell_type": "code",
      "source": [
        "tf.__version__"
      ],
      "metadata": {
        "id": "T5GXE00Gp85D"
      },
      "execution_count": null,
      "outputs": []
    },
    {
      "cell_type": "code",
      "source": [
        "tf.keras.__version__"
      ],
      "metadata": {
        "id": "Ag0yIiVBqLLx"
      },
      "execution_count": null,
      "outputs": []
    },
    {
      "cell_type": "code",
      "source": [
        "tf.config.list_physical_devices(\"GPU\")"
      ],
      "metadata": {
        "id": "XqIB_UUmqeyC"
      },
      "execution_count": null,
      "outputs": []
    },
    {
      "cell_type": "code",
      "source": [
        "tf.config.list_physical_devices(\"CPU\")"
      ],
      "metadata": {
        "id": "og-xQ7Ovqprg"
      },
      "execution_count": null,
      "outputs": []
    },
    {
      "cell_type": "markdown",
      "source": [
        "### A Simple classifier using keras's Sequential API"
      ],
      "metadata": {
        "id": "wK0X4gi3qwlu"
      }
    },
    {
      "cell_type": "markdown",
      "source": [
        "Dataset MNIST\n",
        "\n",
        "\n",
        "1.   Its a dataset of handwritten digits\n",
        "2.   each data point is 2d array of 28x28.\n",
        "3. It has 10 classes 0-10\n",
        "\n"
      ],
      "metadata": {
        "id": "MSACZ_WMq2yE"
      }
    },
    {
      "cell_type": "code",
      "source": [
        "import pandas as pd\n",
        "import numpy as np\n",
        "import matplotlib.pyplot as plt\n",
        "import tensorflow as tf\n",
        "import os"
      ],
      "metadata": {
        "id": "JDNfn_xYqsri"
      },
      "execution_count": null,
      "outputs": []
    },
    {
      "cell_type": "code",
      "source": [
        "mnist= tf.keras.datasets.mnist #Modified National Institute of Standards and Technology dataset"
      ],
      "metadata": {
        "id": "oZhK_aIOrnv1"
      },
      "execution_count": null,
      "outputs": []
    },
    {
      "cell_type": "code",
      "source": [
        "(X_train_full,y_train_full),(X_test,y_test)=mnist.load_data()"
      ],
      "metadata": {
        "id": "BqlsjLQ8rxI8"
      },
      "execution_count": null,
      "outputs": []
    },
    {
      "cell_type": "code",
      "source": [
        "X_train_full.shape,y_train_full.dtype"
      ],
      "metadata": {
        "id": "paMCNdabsdDD"
      },
      "execution_count": null,
      "outputs": []
    },
    {
      "cell_type": "code",
      "source": [
        "y_test.dtype"
      ],
      "metadata": {
        "id": "Edk26YcysvjQ"
      },
      "execution_count": null,
      "outputs": []
    },
    {
      "cell_type": "code",
      "source": [
        "X_test.shape,X_test.dtype"
      ],
      "metadata": {
        "id": "yOAxVOvLszjR"
      },
      "execution_count": null,
      "outputs": []
    },
    {
      "cell_type": "code",
      "source": [
        "X_valid,X_train=X_train_full[:5000]/255,X_train_full[5000:]/255\n",
        "y_valid,y_train=y_train_full[:5000],y_train_full[5000:]\n",
        "\n",
        "X_test=X_test/255"
      ],
      "metadata": {
        "id": "KTOrw1q0tcjy"
      },
      "execution_count": null,
      "outputs": []
    },
    {
      "cell_type": "code",
      "source": [
        "plt.imshow(X_train[0],cmap=\"binary\")\n",
        "plt.axis(\"off\")\n",
        "plt.show()\n",
        "y_train[0]"
      ],
      "metadata": {
        "id": "beg3xbEOuPrS"
      },
      "execution_count": null,
      "outputs": []
    },
    {
      "cell_type": "markdown",
      "source": [
        "Writing som sample to Tensorboard\n"
      ],
      "metadata": {
        "id": "mIeXQqQBF3GI"
      }
    },
    {
      "cell_type": "code",
      "source": [
        "import time\n",
        "\n",
        "def get_timestamp():\n",
        "  return time.asctime().replace(\" \",\"_\").replace(\":\",\"\")"
      ],
      "metadata": {
        "id": "wiCyLyBVF20Y"
      },
      "execution_count": null,
      "outputs": []
    },
    {
      "cell_type": "code",
      "source": [
        "get_timestamp()"
      ],
      "metadata": {
        "id": "GWdyxm7QF2w0"
      },
      "execution_count": null,
      "outputs": []
    },
    {
      "cell_type": "code",
      "source": [
        "def get_log_dir_path(log_dir=\"logs/fit\"):\n",
        "  log_path = os.path.join(log_dir,get_timestamp())\n",
        "  print(f\"logs will be saved at:{log_path}\")\n",
        "  return log_path\n",
        "\n",
        "log_dir=get_log_dir_path()\n",
        "log_dir"
      ],
      "metadata": {
        "id": "vENFwmqmF2ua"
      },
      "execution_count": null,
      "outputs": []
    },
    {
      "cell_type": "code",
      "source": [
        "file_writer = tf.summary.create_file_writer(logdir=log_dir)"
      ],
      "metadata": {
        "id": "rZaZXnLpF2r6"
      },
      "execution_count": null,
      "outputs": []
    },
    {
      "cell_type": "code",
      "source": [
        "with file_writer.as_default():\n",
        "  images = np.reshape(X_train[10: 30], (-1, 28, 28, 1))\n",
        "  tf.summary.image(\"20 handwritten digit samples\", images, max_outputs=25, step=0)"
      ],
      "metadata": {
        "id": "N6_uCc9VF2pY"
      },
      "execution_count": null,
      "outputs": []
    },
    {
      "cell_type": "code",
      "source": [
        "%load_ext tensorboard"
      ],
      "metadata": {
        "id": "_UwEGJiuIHCD"
      },
      "execution_count": null,
      "outputs": []
    },
    {
      "cell_type": "code",
      "source": [
        "%tensorboard --logdir logs/fit"
      ],
      "metadata": {
        "id": "xKka7LtpIHEn"
      },
      "execution_count": null,
      "outputs": []
    },
    {
      "cell_type": "code",
      "source": [
        "plt.imshow# library is used to display data as an image; i.e. on a 2D regular raster."
      ],
      "metadata": {
        "id": "AE3v-oqlubar"
      },
      "execution_count": null,
      "outputs": []
    },
    {
      "cell_type": "code",
      "source": [
        "plt.imshow(X_train[3])\n",
        "#plt.show()\n",
        "y_train[3]"
      ],
      "metadata": {
        "id": "KbbewPb8uiMN"
      },
      "execution_count": null,
      "outputs": []
    },
    {
      "cell_type": "code",
      "source": [
        "import seaborn as sns\n",
        "plt.figure(figsize=(30,30))\n",
        "sns.heatmap(X_train[3],annot=True,cmap=\"binary\")"
      ],
      "metadata": {
        "id": "cO34YJQku1Ur"
      },
      "execution_count": null,
      "outputs": []
    },
    {
      "cell_type": "code",
      "source": [
        "LAYERS = [\n",
        "          tf.keras.layers.Flatten(input_shape=[28,28], name=\"inputLayer\"),\n",
        "          tf.keras.layers.Dense(300,activation=\"relu\", name=\"hiddenLayer1\"),\n",
        "          tf.keras.layers.Dense(100,activation=\"relu\", name=\"hiddenLayer2\"),\n",
        "          tf.keras.layers.Dense(10,activation=\"softmax\", name=\"outputLayer\"),\n",
        "]\n"
      ],
      "metadata": {
        "id": "y5M-Dd3au-tS"
      },
      "execution_count": null,
      "outputs": []
    },
    {
      "cell_type": "code",
      "source": [
        "model=tf.keras.models.Sequential(LAYERS)"
      ],
      "metadata": {
        "id": "5FVrx9g9pvkr"
      },
      "execution_count": null,
      "outputs": []
    },
    {
      "cell_type": "code",
      "source": [
        "model.layers"
      ],
      "metadata": {
        "id": "l-htiVZwqDCV"
      },
      "execution_count": null,
      "outputs": []
    },
    {
      "cell_type": "code",
      "source": [
        "model.summary()"
      ],
      "metadata": {
        "id": "4sQR3Xd8qNyJ"
      },
      "execution_count": null,
      "outputs": []
    },
    {
      "cell_type": "code",
      "source": [
        "hidden1=model.layers[1]\n",
        "model.get_layer(hidden1.name)"
      ],
      "metadata": {
        "id": "_K4hWvqXqco1"
      },
      "execution_count": null,
      "outputs": []
    },
    {
      "cell_type": "code",
      "source": [
        "hidden1 = model.layers[1]\n",
        "\n",
        "model.get_layer(hidden1.name)"
      ],
      "metadata": {
        "id": "On_P-Xhqqsmk"
      },
      "execution_count": null,
      "outputs": []
    },
    {
      "cell_type": "code",
      "source": [
        "hidden1.get_weights()"
      ],
      "metadata": {
        "id": "JbJGaAbbq7B_"
      },
      "execution_count": null,
      "outputs": []
    },
    {
      "cell_type": "code",
      "source": [
        "weights,bias=hidden1.get_weights()"
      ],
      "metadata": {
        "id": "sktVaLhcrOJ2"
      },
      "execution_count": null,
      "outputs": []
    },
    {
      "cell_type": "code",
      "source": [
        "weights"
      ],
      "metadata": {
        "id": "IZvzriMkrVnZ"
      },
      "execution_count": null,
      "outputs": []
    },
    {
      "cell_type": "code",
      "source": [
        "bias"
      ],
      "metadata": {
        "id": "5ZZJU4lFrXT3"
      },
      "execution_count": null,
      "outputs": []
    },
    {
      "cell_type": "code",
      "source": [
        "weights.shape"
      ],
      "metadata": {
        "id": "LvJD5K2orYqt"
      },
      "execution_count": null,
      "outputs": []
    },
    {
      "cell_type": "code",
      "source": [
        "bias.shape"
      ],
      "metadata": {
        "id": "MvPH1HUYrbuo"
      },
      "execution_count": null,
      "outputs": []
    },
    {
      "cell_type": "code",
      "source": [
        "LOSS_FUNCTION=\"sparse_categorical_crossentropy\"\n",
        "OPTIMIZER=\"SGD\"\n",
        "METRICS= ['accuracy']\n",
        "\n",
        "model.compile(loss=LOSS_FUNCTION,\n",
        "              optimizer=OPTIMIZER,\n",
        "              metrics=METRICS)"
      ],
      "metadata": {
        "id": "n88GrBemrk3c"
      },
      "execution_count": null,
      "outputs": []
    },
    {
      "cell_type": "markdown",
      "source": [
        "### Important -\n",
        "\n",
        "* **Epochs**: Integer. \n",
        "    \n",
        "    Number of epochs to train the model. An epoch is an iteration over the entire x and y data provided. \n",
        "\n",
        "* **batch_size**: Integer or None. \n",
        "    \n",
        "    Number of samples per gradient update. If unspecified, batch_size will default to 32. \n",
        "    \n",
        "    *NOTE:* Do not specify the batch_size if your data is in the form of datasets, generators, or keras.utils.Sequence instances (since they generate batches).\n",
        "\n",
        "* **validation_batch_size**: Integer or None. \n",
        "\n",
        "    Number of samples per validation batch. \n",
        "    \n",
        "    If unspecified, will default to batch_size. \n",
        "    \n",
        "    *NOTE:* Do not specify the validation_batch_size if your data is in the form of datasets, generators, or keras.utils.Sequence instances (since they generate batches).\n",
        "\n",
        "[Reference](https://www.tensorflow.org/api_docs/python/tf/keras/Model?hl=zh-tw#fit)\n",
        "\n",
        "[Another Referencce](https://keras.io/api/)"
      ],
      "metadata": {
        "id": "x-ZC8yDDtXdV"
      }
    },
    {
      "cell_type": "code",
      "source": [
        "EPOCHS = 30\n",
        "VALIDATION_SET=(X_valid,y_valid)\n",
        "\n",
        "history = model.fit(X_train,y_train,\n",
        "                    epochs=EPOCHS,\n",
        "                    validation_data=VALIDATION_SET)"
      ],
      "metadata": {
        "id": "N0t1aw28tSsa"
      },
      "execution_count": null,
      "outputs": []
    },
    {
      "cell_type": "code",
      "source": [
        "55000 / 16\n"
      ],
      "metadata": {
        "id": "LKToqBi6uJkY"
      },
      "execution_count": null,
      "outputs": []
    },
    {
      "cell_type": "code",
      "source": [
        "model.evaluate(X_test,y_test)"
      ],
      "metadata": {
        "id": "-E18yJmZusgN"
      },
      "execution_count": null,
      "outputs": []
    },
    {
      "cell_type": "code",
      "source": [
        "model.save(\"model.h5\")"
      ],
      "metadata": {
        "id": "xH-g0PNbuyDn"
      },
      "execution_count": null,
      "outputs": []
    },
    {
      "cell_type": "code",
      "source": [
        "loaded_model=tf.keras.models.load_model(\"model.h5\")"
      ],
      "metadata": {
        "id": "mPxQA96vu1Vj"
      },
      "execution_count": null,
      "outputs": []
    },
    {
      "cell_type": "code",
      "source": [
        "loaded_model.evaluate(X_test,y_test)"
      ],
      "metadata": {
        "id": "pCpYjXSNvEAW"
      },
      "execution_count": null,
      "outputs": []
    },
    {
      "cell_type": "code",
      "source": [
        "pd.DataFrame(history.history)"
      ],
      "metadata": {
        "id": "705r54ZavK4e"
      },
      "execution_count": null,
      "outputs": []
    },
    {
      "cell_type": "code",
      "source": [
        "pd.DataFrame(history.history).plot(figsize=(8,5))\n",
        "plt.grid(True)\n",
        "plt.gca().set_ylim(0,1) #gca? set_ylim?\n",
        "plt.show()"
      ],
      "metadata": {
        "id": "v9BZVKzQvPEy"
      },
      "execution_count": null,
      "outputs": []
    },
    {
      "cell_type": "code",
      "source": [
        "X_new = X_test[:3]\n",
        "y_new= y_test[:3]\n",
        "y_proba=model.predict(X_new)\n",
        "y_proba.round(2)"
      ],
      "metadata": {
        "id": "pmimT6TUvjOa"
      },
      "execution_count": null,
      "outputs": []
    },
    {
      "cell_type": "code",
      "source": [
        "y_pred=np.argmax(y_proba,axis=-1)\n",
        "y_pred,y_new"
      ],
      "metadata": {
        "id": "7nzJ-HYNwBGB"
      },
      "execution_count": null,
      "outputs": []
    },
    {
      "cell_type": "code",
      "source": [
        "for data,pred,actual in zip(X_new,y_pred,y_new):\n",
        "  plt.imshow(data,cmap=\"binary\")\n",
        "  plt.title(f\"Predicted: {pred}, Actual: {actual}\")\n",
        "  plt.axis(\"off\")\n",
        "  plt.show()\n",
        "  print(\"---\"*20)"
      ],
      "metadata": {
        "id": "fQLiM7MbwN8V"
      },
      "execution_count": null,
      "outputs": []
    },
    {
      "cell_type": "code",
      "source": [
        ""
      ],
      "metadata": {
        "id": "T1lYooYIwyYe"
      },
      "execution_count": null,
      "outputs": []
    }
  ]
}